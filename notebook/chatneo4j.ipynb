{
 "cells": [
  {
   "cell_type": "code",
   "execution_count": 1,
   "id": "b6e2f944-0e67-4d84-a9b1-2857bb56f8ec",
   "metadata": {},
   "outputs": [],
   "source": [
    "# https://python.langchain.com/v0.2/docs/how_to/graph_prompting/\n",
    "# https://python.langchain.com/v0.2/docs/how_to/graph_constructing/"
   ]
  },
  {
   "cell_type": "code",
   "execution_count": 2,
   "id": "9d505610-cbf6-4f5f-880d-7e3b7c91b9b1",
   "metadata": {},
   "outputs": [],
   "source": [
    "from langchain_google_genai import ChatGoogleGenerativeAI\n",
    "from langchain_community.chains.graph_qa.cypher import GraphCypherQAChain\n",
    "from langchain_community.graphs import Neo4jGraph\n",
    "from dotenv import load_dotenv\n",
    "import os"
   ]
  },
  {
   "cell_type": "code",
   "execution_count": 3,
   "id": "a02374f1-18ac-4fcb-8d1a-9650e47c77a0",
   "metadata": {},
   "outputs": [],
   "source": [
    "load_dotenv()\n",
    "\n",
    "os.environ[\"GOOGLE_API_KEY\"] = os.getenv(\"GOOGLE_API_KEY\")\n",
    "os.environ[\"NEO4J_URI\"] = os.getenv(\"NEO4J_URI\")\n",
    "os.environ[\"NEO4J_USERNAME\"] = os.getenv(\"NEO4J_USERNAME\")\n",
    "os.environ[\"NEO4J_PASSWORD\"] = os.getenv(\"NEO4J_PASSWORD\")"
   ]
  },
  {
   "cell_type": "code",
   "execution_count": 4,
   "id": "36b6b46a-ebad-4c26-9070-da5759a39908",
   "metadata": {},
   "outputs": [],
   "source": [
    "graph = Neo4jGraph()\n",
    "\n",
    "llm = ChatGoogleGenerativeAI(model=\"gemini-pro\")\n",
    "\n",
    "# chain = GraphCypherQAChain.from_llm(graph=graph, llm=llm, verbose=True, validate_cypher=True)"
   ]
  },
  {
   "cell_type": "code",
   "execution_count": 5,
   "id": "b236f8a6-ca63-4302-abfe-db4373ca5074",
   "metadata": {},
   "outputs": [],
   "source": [
    "# def is_database_query(query):\n",
    "#     # Simple heuristic to check if a query might be related to the database\n",
    "#     db_keywords = [\"count\", \"list\", \"how many\", \"retrieve\", \"find\", \"fetch\"]\n",
    "#     return any(keyword in query.lower() for keyword in db_keywords)"
   ]
  },
  {
   "cell_type": "code",
   "execution_count": 6,
   "id": "4166a6e2-c8f5-4e23-b81e-f4d25549527e",
   "metadata": {},
   "outputs": [],
   "source": [
    "# def chatbot_response(query):\n",
    "#     # Check if the query is related to the database\n",
    "#     if is_database_query(query):\n",
    "#         try:\n",
    "#             # Handle as a database query\n",
    "#             response = chain.invoke({\"query\": query})\n",
    "#             return response\n",
    "#         except Exception as e:\n",
    "#             return f\"Error processing database query: {str(e)}\"\n",
    "#     else:\n",
    "#         # Handle as a general chatbot query\n",
    "#         messages = [{\"role\": \"user\", \"content\": query}]\n",
    "#         return llm.invoke(messages)"
   ]
  },
  {
   "cell_type": "code",
   "execution_count": 7,
   "id": "6fed1612-0a47-4a5a-8aaf-3dec8b571905",
   "metadata": {},
   "outputs": [
    {
     "name": "stdout",
     "output_type": "stream",
     "text": [
      "\n",
      "\n",
      "\u001b[1m> Entering new GraphCypherQAChain chain...\u001b[0m\n",
      "Generated Cypher:\n",
      "\u001b[32;1m\u001b[1;3mcypher\n",
      "MATCH (u:User)\n",
      "RETURN count(u);\n",
      "\u001b[0m\n",
      "Full Context:\n",
      "\u001b[32;1m\u001b[1;3m[{'count(u)': 8}]\u001b[0m\n",
      "\n",
      "\u001b[1m> Finished chain.\u001b[0m\n",
      "{'query': 'How many users are in the database?', 'result': 'The database contains 8 users.'}\n"
     ]
    }
   ],
   "source": [
    "# query = \"How many users are in the database?\"\n",
    "# response = chatbot_response(query)\n",
    "# print(response)"
   ]
  },
  {
   "cell_type": "code",
   "execution_count": 9,
   "id": "f3066966-a212-4e3d-912d-2ae23404a4f1",
   "metadata": {},
   "outputs": [
    {
     "data": {
      "text/plain": [
       "AIMessage(content='Hello there! How can I assist you today?', response_metadata={'prompt_feedback': {'block_reason': 0, 'safety_ratings': []}, 'finish_reason': 'STOP', 'safety_ratings': [{'category': 'HARM_CATEGORY_SEXUALLY_EXPLICIT', 'probability': 'NEGLIGIBLE', 'blocked': False}, {'category': 'HARM_CATEGORY_HATE_SPEECH', 'probability': 'NEGLIGIBLE', 'blocked': False}, {'category': 'HARM_CATEGORY_HARASSMENT', 'probability': 'NEGLIGIBLE', 'blocked': False}, {'category': 'HARM_CATEGORY_DANGEROUS_CONTENT', 'probability': 'NEGLIGIBLE', 'blocked': False}]}, id='run-51142e8d-95a1-4045-b73e-39207736a62c-0', usage_metadata={'input_tokens': 2, 'output_tokens': 10, 'total_tokens': 12})"
      ]
     },
     "execution_count": 9,
     "metadata": {},
     "output_type": "execute_result"
    }
   ],
   "source": [
    "general_query = \"hi\"\n",
    "general_response = chatbot_response(general_query)\n",
    "general_response"
   ]
  },
  {
   "cell_type": "code",
   "execution_count": 10,
   "id": "3b6a22c7-5f1e-4a30-b1f8-7fca9fcff025",
   "metadata": {},
   "outputs": [],
   "source": [
    "from langchain_core.prompts import FewShotPromptTemplate, PromptTemplate"
   ]
  },
  {
   "cell_type": "code",
   "execution_count": 1,
   "id": "4ee1d6a6-6375-4a43-a0cc-eb28dae6ec70",
   "metadata": {},
   "outputs": [],
   "source": [
    "# cypher_prompt = FewShotPromptTemplate(\n",
    "#     prefix=\"You are a Neo4j expert. Given an input question, create a syntactically correct Cypher query to run.\\n\\nHere is the schema information\\n{schema}.\",\n",
    "#     suffix=\"User input: {question}\\nCypher query: \",\n",
    "#     input_variables=[\"question\", \"schema\"],\n",
    "# )"
   ]
  },
  {
   "cell_type": "code",
   "execution_count": null,
   "id": "838b7772-71eb-49b6-b2a1-43a73b37e87a",
   "metadata": {},
   "outputs": [],
   "source": []
  }
 ],
 "metadata": {
  "kernelspec": {
   "display_name": "Python 3 (ipykernel)",
   "language": "python",
   "name": "python3"
  },
  "language_info": {
   "codemirror_mode": {
    "name": "ipython",
    "version": 3
   },
   "file_extension": ".py",
   "mimetype": "text/x-python",
   "name": "python",
   "nbconvert_exporter": "python",
   "pygments_lexer": "ipython3",
   "version": "3.11.7"
  }
 },
 "nbformat": 4,
 "nbformat_minor": 5
}
